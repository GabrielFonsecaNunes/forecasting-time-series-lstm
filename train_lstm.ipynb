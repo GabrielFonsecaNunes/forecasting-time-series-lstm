{
 "cells": [
  {
   "cell_type": "code",
   "execution_count": 8,
   "metadata": {},
   "outputs": [
    {
     "data": {
      "text/plain": [
       "<keras.src.callbacks.History at 0x7f6a7c606d70>"
      ]
     },
     "execution_count": 8,
     "metadata": {},
     "output_type": "execute_result"
    }
   ],
   "source": [
    "import yfinance as yf\n",
    "import numpy as np\n",
    "import pandas as pd\n",
    "import plotly.graph_objects as go\n",
    "import tensorflow as tf\n",
    "from sklearn.preprocessing import MinMaxScaler\n",
    "from sklearn.metrics import mean_squared_error\n",
    "from datetime import (datetime as dt, timedelta)\n",
    "\n",
    "# Define date start and end\n",
    "start_date = dt.now() - timedelta(days=7)\n",
    "end_date = dt.now()\n",
    "\n",
    "data = yf.download('BTC-USD', start=start_date, end=end_date, interval='1h')\n",
    "data.drop(['Open', 'High', 'Low', 'Close', 'Volume'], axis=1, inplace=True)\n",
    "data.index = data.index.to_pydatetime()\n",
    "\n",
    "# Função para criar sequências temporais\n",
    "def create_sequences(data, seq_length):\n",
    "    sequences = []\n",
    "    for i in range(len(data) - seq_length):\n",
    "        sequence = data[i : i + seq_length]\n",
    "        sequences.append(sequence)\n",
    "    return np.array(sequences)\n",
    "\n",
    "# Sequencia de valores pretitos\n",
    "seq_length = 8\n",
    "\n",
    "prices = data['Adj Close'].values.reshape(-1, 1)\n",
    "scaler = MinMaxScaler(feature_range=(0, 1))\n",
    "prices_scaled = scaler.fit_transform(prices)\n",
    "\n",
    "X = create_sequences(prices_scaled, seq_length)\n",
    "y = prices_scaled[seq_length:]\n",
    "\n",
    "# Divindo dados\n",
    "total_size = len(data)\n",
    "train_index = int(0.7 * total_size)\n",
    "test_index = int(0.3 * total_size)\n",
    "\n",
    "# Dividindo dados\n",
    "X_train, y_train = X[:train_index], y[:train_index]\n",
    "X_test, y_test = X[train_index:train_index + test_index], y[train_index:train_index + test_index]\n",
    "\n",
    "# Construir modelo LSTM\n",
    "model = tf.keras.Sequential([\n",
    "    tf.keras.layers.LSTM(50, activation='relu', input_shape=(seq_length, 1)),\n",
    "    tf.keras.layers.Dense(1)\n",
    "])\n",
    "\n",
    "model.compile(optimizer='adam', loss='mse')\n",
    "\n",
    "# Treinar o modelo\n",
    "model.fit(X_train, y_train, epochs=50, batch_size=32, verbose=0)\n",
    "\n",
    "# Realizar previsões para o conjunto de teste\n",
    "predictions_scaled_test = model.predict(X_test)\n",
    "\n",
    "# Desnormalizar as previsões\n",
    "predictions_test = scaler.inverse_transform(predictions_scaled_test)\n",
    "\n",
    "# Avaliar o desempenho do modelo\n",
    "rmse = np.sqrt(mean_squared_error(prices[seq_length + train_index: train_index + test_index + seq_length], predictions_test))\n",
    "print(f\"RMSE: {rmse}\")"
   ]
  },
  {
   "cell_type": "code",
   "execution_count": 20,
   "metadata": {},
   "outputs": [],
   "source": [
    "# # Últimas seq_length horas do conjunto de teste\n",
    "# last_sequence = prices[-seq_length:].reshape(1, seq_length)\n",
    "\n",
    "# # Normalizar a última sequência\n",
    "# last_sequence_scaled = scaler.transform(last_sequence.reshape(-1, 1)).reshape(1, seq_length, 1)\n",
    "\n",
    "# predictions_scaled_future = []\n",
    "\n",
    "# for i in range(seq_length):\n",
    "#     next_timestamp = model.predict(last_sequence_scaled)\n",
    "#     predictions_scaled_future.append(next_timestamp[0, 0])\n",
    "    \n",
    "#     # Atualizar a sequência para incluir a nova previsão e descartar o valor mais antigo\n",
    "#     last_sequence_scaled = np.roll(last_sequence_scaled, -1, axis=1)\n",
    "#     last_sequence_scaled[0, -1, 0] = next_timestamp[0, 0]\n",
    "\n",
    "# predictions_future = scaler.inverse_transform(np.array(predictions_scaled_future).reshape(-1, 1))\n",
    "# next_24_hours_timestamps = pd.date_range(end=end_date, periods=seq_length, freq='H') + timedelta(hours=1)\n",
    "# predictions_df = pd.DataFrame({'Timestamp': next_24_hours_timestamps, 'Predicted_Price': predictions_future.flatten()})"
   ]
  },
  {
   "cell_type": "code",
   "execution_count": 18,
   "metadata": {},
   "outputs": [
    {
     "data": {
      "application/vnd.plotly.v1+json": {
       "config": {
        "plotlyServerURL": "https://plot.ly"
       },
       "data": [
        {
         "mode": "lines",
         "name": "Histórico",
         "type": "scatter",
         "x": [
          "2023-12-25T15:00:00+00:00",
          "2023-12-25T16:00:00+00:00",
          "2023-12-25T17:00:00+00:00",
          "2023-12-25T18:00:00+00:00",
          "2023-12-25T19:00:00+00:00",
          "2023-12-25T20:00:00+00:00",
          "2023-12-25T21:00:00+00:00",
          "2023-12-25T22:00:00+00:00",
          "2023-12-25T23:00:00+00:00",
          "2023-12-26T00:00:00+00:00",
          "2023-12-26T01:00:00+00:00",
          "2023-12-26T02:00:00+00:00",
          "2023-12-26T03:00:00+00:00",
          "2023-12-26T04:00:00+00:00",
          "2023-12-26T05:00:00+00:00",
          "2023-12-26T06:00:00+00:00",
          "2023-12-26T07:00:00+00:00",
          "2023-12-26T08:00:00+00:00",
          "2023-12-26T09:00:00+00:00",
          "2023-12-26T10:00:00+00:00",
          "2023-12-26T11:00:00+00:00",
          "2023-12-26T12:00:00+00:00",
          "2023-12-26T13:00:00+00:00",
          "2023-12-26T14:00:00+00:00",
          "2023-12-26T15:00:00+00:00",
          "2023-12-26T16:00:00+00:00",
          "2023-12-26T17:00:00+00:00",
          "2023-12-26T18:00:00+00:00",
          "2023-12-26T19:00:00+00:00",
          "2023-12-26T20:00:00+00:00",
          "2023-12-26T21:00:00+00:00",
          "2023-12-26T22:00:00+00:00",
          "2023-12-26T23:00:00+00:00",
          "2023-12-27T00:00:00+00:00",
          "2023-12-27T01:00:00+00:00",
          "2023-12-27T02:00:00+00:00",
          "2023-12-27T03:00:00+00:00",
          "2023-12-27T04:00:00+00:00",
          "2023-12-27T05:00:00+00:00",
          "2023-12-27T06:00:00+00:00",
          "2023-12-27T07:00:00+00:00",
          "2023-12-27T08:00:00+00:00",
          "2023-12-27T09:00:00+00:00",
          "2023-12-27T10:00:00+00:00",
          "2023-12-27T11:00:00+00:00",
          "2023-12-27T12:00:00+00:00",
          "2023-12-27T13:00:00+00:00",
          "2023-12-27T14:00:00+00:00",
          "2023-12-27T15:00:00+00:00",
          "2023-12-27T16:00:00+00:00",
          "2023-12-27T17:00:00+00:00",
          "2023-12-27T18:00:00+00:00",
          "2023-12-27T19:00:00+00:00",
          "2023-12-27T20:00:00+00:00",
          "2023-12-27T21:00:00+00:00",
          "2023-12-27T22:00:00+00:00",
          "2023-12-27T23:00:00+00:00",
          "2023-12-28T00:00:00+00:00",
          "2023-12-28T01:00:00+00:00",
          "2023-12-28T02:00:00+00:00",
          "2023-12-28T03:00:00+00:00",
          "2023-12-28T04:00:00+00:00",
          "2023-12-28T05:00:00+00:00",
          "2023-12-28T06:00:00+00:00",
          "2023-12-28T07:00:00+00:00",
          "2023-12-28T08:00:00+00:00",
          "2023-12-28T09:00:00+00:00",
          "2023-12-28T10:00:00+00:00",
          "2023-12-28T11:00:00+00:00",
          "2023-12-28T12:00:00+00:00",
          "2023-12-28T13:00:00+00:00",
          "2023-12-28T14:00:00+00:00",
          "2023-12-28T15:00:00+00:00",
          "2023-12-28T16:00:00+00:00",
          "2023-12-28T17:00:00+00:00",
          "2023-12-28T18:00:00+00:00",
          "2023-12-28T19:00:00+00:00",
          "2023-12-28T20:00:00+00:00",
          "2023-12-28T21:00:00+00:00",
          "2023-12-28T22:00:00+00:00",
          "2023-12-28T23:00:00+00:00",
          "2023-12-29T00:00:00+00:00",
          "2023-12-29T01:00:00+00:00",
          "2023-12-29T02:00:00+00:00",
          "2023-12-29T03:00:00+00:00",
          "2023-12-29T04:00:00+00:00",
          "2023-12-29T05:00:00+00:00",
          "2023-12-29T06:00:00+00:00",
          "2023-12-29T07:00:00+00:00",
          "2023-12-29T08:00:00+00:00",
          "2023-12-29T09:00:00+00:00",
          "2023-12-29T10:00:00+00:00",
          "2023-12-29T11:00:00+00:00",
          "2023-12-29T12:00:00+00:00",
          "2023-12-29T13:00:00+00:00",
          "2023-12-29T14:00:00+00:00",
          "2023-12-29T15:00:00+00:00",
          "2023-12-29T16:00:00+00:00",
          "2023-12-29T17:00:00+00:00",
          "2023-12-29T18:00:00+00:00",
          "2023-12-29T19:00:00+00:00",
          "2023-12-29T20:00:00+00:00",
          "2023-12-29T21:00:00+00:00",
          "2023-12-29T22:00:00+00:00",
          "2023-12-29T23:00:00+00:00",
          "2023-12-30T00:00:00+00:00",
          "2023-12-30T01:00:00+00:00",
          "2023-12-30T02:00:00+00:00",
          "2023-12-30T03:00:00+00:00",
          "2023-12-30T04:00:00+00:00",
          "2023-12-30T05:00:00+00:00",
          "2023-12-30T06:00:00+00:00",
          "2023-12-30T07:00:00+00:00",
          "2023-12-30T08:00:00+00:00",
          "2023-12-30T09:00:00+00:00",
          "2023-12-30T10:00:00+00:00",
          "2023-12-30T11:00:00+00:00",
          "2023-12-30T12:00:00+00:00",
          "2023-12-30T13:00:00+00:00",
          "2023-12-30T14:00:00+00:00",
          "2023-12-30T15:00:00+00:00",
          "2023-12-30T16:00:00+00:00",
          "2023-12-30T17:00:00+00:00",
          "2023-12-30T18:00:00+00:00",
          "2023-12-30T19:00:00+00:00",
          "2023-12-30T20:00:00+00:00",
          "2023-12-30T21:00:00+00:00",
          "2023-12-30T22:00:00+00:00",
          "2023-12-30T23:00:00+00:00",
          "2023-12-31T00:00:00+00:00",
          "2023-12-31T01:00:00+00:00",
          "2023-12-31T02:00:00+00:00",
          "2023-12-31T03:00:00+00:00",
          "2023-12-31T04:00:00+00:00",
          "2023-12-31T05:00:00+00:00",
          "2023-12-31T06:00:00+00:00",
          "2023-12-31T07:00:00+00:00",
          "2023-12-31T08:00:00+00:00",
          "2023-12-31T09:00:00+00:00",
          "2023-12-31T10:00:00+00:00",
          "2023-12-31T11:00:00+00:00",
          "2023-12-31T12:00:00+00:00",
          "2023-12-31T13:00:00+00:00",
          "2023-12-31T14:00:00+00:00",
          "2023-12-31T15:00:00+00:00",
          "2023-12-31T16:00:00+00:00",
          "2023-12-31T17:00:00+00:00",
          "2023-12-31T18:00:00+00:00",
          "2023-12-31T19:00:00+00:00",
          "2023-12-31T20:00:00+00:00",
          "2023-12-31T21:00:00+00:00",
          "2023-12-31T22:00:00+00:00",
          "2023-12-31T23:00:00+00:00",
          "2024-01-01T00:00:00+00:00",
          "2024-01-01T01:00:00+00:00",
          "2024-01-01T02:00:00+00:00",
          "2024-01-01T03:00:00+00:00",
          "2024-01-01T04:00:00+00:00",
          "2024-01-01T05:00:00+00:00",
          "2024-01-01T06:00:00+00:00",
          "2024-01-01T07:00:00+00:00",
          "2024-01-01T08:00:00+00:00",
          "2024-01-01T09:00:00+00:00",
          "2024-01-01T10:00:00+00:00",
          "2024-01-01T11:00:00+00:00",
          "2024-01-01T12:00:00+00:00",
          "2024-01-01T13:00:00+00:00",
          "2024-01-01T14:00:00+00:00",
          "2024-01-01T15:00:00+00:00"
         ],
         "y": [
          43630.4140625,
          43494.1171875,
          43547.94140625,
          43412.78515625,
          43482.48046875,
          43418.04296875,
          43512.9453125,
          43694.53515625,
          43613.859375,
          43440.2265625,
          43508.58984375,
          43449.57421875,
          43440.13671875,
          43469.4609375,
          42834.33203125,
          42699.13671875,
          42766.5625,
          42702.27734375,
          42379.26171875,
          42633.875,
          42680.796875,
          42757.82421875,
          42731.265625,
          42601.625,
          42355.6484375,
          42315.38671875,
          42021.19140625,
          42131.1796875,
          42092.140625,
          42197.98828125,
          42322.80859375,
          42466.84765625,
          42517.765625,
          42369.89453125,
          42451.07421875,
          42214.375,
          42250.703125,
          42317.11328125,
          42430.34765625,
          42451.41796875,
          42478.3984375,
          42733.875,
          42741.77734375,
          43195.4375,
          43015.5390625,
          42924.56640625,
          42925.3203125,
          42978.078125,
          43007.17578125,
          43103.78515625,
          43036.71875,
          43197.73828125,
          43183.3828125,
          43548.62890625,
          43361.33984375,
          43373.703125,
          43436.73046875,
          43567.33203125,
          43513.77734375,
          43396.88671875,
          43440.046875,
          43353.9765625,
          43227.91015625,
          43057.73828125,
          43055.3671875,
          42965.1640625,
          43087.390625,
          43150.63671875,
          43082.50390625,
          42840.03515625,
          42848.890625,
          42624.6640625,
          42460.9453125,
          42440.45703125,
          42575.1171875,
          42492.05859375,
          42655.10546875,
          42545.4140625,
          42443.01953125,
          42640.32421875,
          42630.51953125,
          42443.046875,
          42357.65625,
          42591.69140625,
          42729.58203125,
          42695.90625,
          42709.46484375,
          42569.2109375,
          42320.85546875,
          42514.421875,
          42659.94921875,
          42761.59375,
          42920.796875,
          42849.1796875,
          42826.6640625,
          43042.65234375,
          42343.6640625,
          42058.79296875,
          41812.1328125,
          42086.55078125,
          42124.3359375,
          42025.046875,
          41923.78125,
          41808.484375,
          42100.3671875,
          42145.8203125,
          42175.9140625,
          41901.00390625,
          41991.03125,
          42013.16796875,
          42100.4375,
          42062.6015625,
          41958.8984375,
          41700.1015625,
          41695.6171875,
          41794.10546875,
          41903.08984375,
          41984.98046875,
          42031.0703125,
          42222.65234375,
          42407,
          42407.23046875,
          42496.98046875,
          42429.49609375,
          42364.2109375,
          42286.83203125,
          42285.703125,
          42162.04296875,
          42203.07421875,
          42336.73828125,
          42185.359375,
          42081.96484375,
          42160.77734375,
          42213.82421875,
          42203.35546875,
          42249.39453125,
          42526.33203125,
          42449.20703125,
          42735.3203125,
          42660.83984375,
          42500.8515625,
          42411.55078125,
          42481.1640625,
          42513.453125,
          42454.75390625,
          42586.5703125,
          42595.02734375,
          42638.23828125,
          42601.29296875,
          42542.640625,
          42518.58203125,
          42308.44921875,
          42255.12109375,
          42477.25390625,
          42622.8984375,
          42576.6015625,
          42320.73046875,
          42387.1640625,
          42225.484375,
          42408.80078125,
          42466.46875,
          42546.4140625,
          42631.41796875,
          42696.95703125,
          42687.30859375,
          42664.109375,
          42740.578125,
          42622.375,
          42678.33203125
         ]
        },
        {
         "line": {
          "color": "green",
          "dash": "dash"
         },
         "mode": "lines",
         "name": "Previsões Teste",
         "type": "scatter",
         "x": [
          "2023-12-30T21:00:00+00:00",
          "2023-12-30T22:00:00+00:00",
          "2023-12-30T23:00:00+00:00",
          "2023-12-31T00:00:00+00:00",
          "2023-12-31T01:00:00+00:00",
          "2023-12-31T02:00:00+00:00",
          "2023-12-31T03:00:00+00:00",
          "2023-12-31T04:00:00+00:00",
          "2023-12-31T05:00:00+00:00",
          "2023-12-31T06:00:00+00:00",
          "2023-12-31T07:00:00+00:00",
          "2023-12-31T08:00:00+00:00",
          "2023-12-31T09:00:00+00:00",
          "2023-12-31T10:00:00+00:00",
          "2023-12-31T11:00:00+00:00",
          "2023-12-31T12:00:00+00:00",
          "2023-12-31T13:00:00+00:00",
          "2023-12-31T14:00:00+00:00",
          "2023-12-31T15:00:00+00:00",
          "2023-12-31T16:00:00+00:00",
          "2023-12-31T17:00:00+00:00",
          "2023-12-31T18:00:00+00:00",
          "2023-12-31T19:00:00+00:00",
          "2023-12-31T20:00:00+00:00",
          "2023-12-31T21:00:00+00:00",
          "2023-12-31T22:00:00+00:00",
          "2023-12-31T23:00:00+00:00",
          "2024-01-01T00:00:00+00:00",
          "2024-01-01T01:00:00+00:00",
          "2024-01-01T02:00:00+00:00",
          "2024-01-01T03:00:00+00:00",
          "2024-01-01T04:00:00+00:00",
          "2024-01-01T05:00:00+00:00",
          "2024-01-01T06:00:00+00:00",
          "2024-01-01T07:00:00+00:00",
          "2024-01-01T08:00:00+00:00",
          "2024-01-01T09:00:00+00:00",
          "2024-01-01T10:00:00+00:00",
          "2024-01-01T11:00:00+00:00",
          "2024-01-01T12:00:00+00:00",
          "2024-01-01T13:00:00+00:00",
          "2024-01-01T14:00:00+00:00",
          "2024-01-01T15:00:00+00:00"
         ],
         "y": [
          42415.57421875,
          42387.6796875,
          42337.71484375,
          42304.40625,
          42306.609375,
          42289.80859375,
          42258.4453125,
          42249.8125,
          42249.3984375,
          42247.23828125,
          42256.95703125,
          42325.68359375,
          42378.1328125,
          42477.75390625,
          42547.4140625,
          42563.36328125,
          42539.546875,
          42521.08984375,
          42504.74609375,
          42488.296875,
          42504.83984375,
          42534.8828125,
          42563.75390625,
          42584.7265625,
          42581.08203125,
          42567.59765625,
          42506.53515625,
          42439.13671875,
          42429.58984375,
          42457.453125,
          42485.234375,
          42474.51953125,
          42471.0703125,
          42415.06640625,
          42397.2734375,
          42401.703125,
          42437.16796875,
          42493.2578125,
          42561.953125,
          42608.9296875,
          42634.0546875,
          42662.41796875,
          42654.71875
         ]
        }
       ],
       "layout": {
        "template": {
         "data": {
          "bar": [
           {
            "error_x": {
             "color": "#2a3f5f"
            },
            "error_y": {
             "color": "#2a3f5f"
            },
            "marker": {
             "line": {
              "color": "#E5ECF6",
              "width": 0.5
             },
             "pattern": {
              "fillmode": "overlay",
              "size": 10,
              "solidity": 0.2
             }
            },
            "type": "bar"
           }
          ],
          "barpolar": [
           {
            "marker": {
             "line": {
              "color": "#E5ECF6",
              "width": 0.5
             },
             "pattern": {
              "fillmode": "overlay",
              "size": 10,
              "solidity": 0.2
             }
            },
            "type": "barpolar"
           }
          ],
          "carpet": [
           {
            "aaxis": {
             "endlinecolor": "#2a3f5f",
             "gridcolor": "white",
             "linecolor": "white",
             "minorgridcolor": "white",
             "startlinecolor": "#2a3f5f"
            },
            "baxis": {
             "endlinecolor": "#2a3f5f",
             "gridcolor": "white",
             "linecolor": "white",
             "minorgridcolor": "white",
             "startlinecolor": "#2a3f5f"
            },
            "type": "carpet"
           }
          ],
          "choropleth": [
           {
            "colorbar": {
             "outlinewidth": 0,
             "ticks": ""
            },
            "type": "choropleth"
           }
          ],
          "contour": [
           {
            "colorbar": {
             "outlinewidth": 0,
             "ticks": ""
            },
            "colorscale": [
             [
              0,
              "#0d0887"
             ],
             [
              0.1111111111111111,
              "#46039f"
             ],
             [
              0.2222222222222222,
              "#7201a8"
             ],
             [
              0.3333333333333333,
              "#9c179e"
             ],
             [
              0.4444444444444444,
              "#bd3786"
             ],
             [
              0.5555555555555556,
              "#d8576b"
             ],
             [
              0.6666666666666666,
              "#ed7953"
             ],
             [
              0.7777777777777778,
              "#fb9f3a"
             ],
             [
              0.8888888888888888,
              "#fdca26"
             ],
             [
              1,
              "#f0f921"
             ]
            ],
            "type": "contour"
           }
          ],
          "contourcarpet": [
           {
            "colorbar": {
             "outlinewidth": 0,
             "ticks": ""
            },
            "type": "contourcarpet"
           }
          ],
          "heatmap": [
           {
            "colorbar": {
             "outlinewidth": 0,
             "ticks": ""
            },
            "colorscale": [
             [
              0,
              "#0d0887"
             ],
             [
              0.1111111111111111,
              "#46039f"
             ],
             [
              0.2222222222222222,
              "#7201a8"
             ],
             [
              0.3333333333333333,
              "#9c179e"
             ],
             [
              0.4444444444444444,
              "#bd3786"
             ],
             [
              0.5555555555555556,
              "#d8576b"
             ],
             [
              0.6666666666666666,
              "#ed7953"
             ],
             [
              0.7777777777777778,
              "#fb9f3a"
             ],
             [
              0.8888888888888888,
              "#fdca26"
             ],
             [
              1,
              "#f0f921"
             ]
            ],
            "type": "heatmap"
           }
          ],
          "heatmapgl": [
           {
            "colorbar": {
             "outlinewidth": 0,
             "ticks": ""
            },
            "colorscale": [
             [
              0,
              "#0d0887"
             ],
             [
              0.1111111111111111,
              "#46039f"
             ],
             [
              0.2222222222222222,
              "#7201a8"
             ],
             [
              0.3333333333333333,
              "#9c179e"
             ],
             [
              0.4444444444444444,
              "#bd3786"
             ],
             [
              0.5555555555555556,
              "#d8576b"
             ],
             [
              0.6666666666666666,
              "#ed7953"
             ],
             [
              0.7777777777777778,
              "#fb9f3a"
             ],
             [
              0.8888888888888888,
              "#fdca26"
             ],
             [
              1,
              "#f0f921"
             ]
            ],
            "type": "heatmapgl"
           }
          ],
          "histogram": [
           {
            "marker": {
             "pattern": {
              "fillmode": "overlay",
              "size": 10,
              "solidity": 0.2
             }
            },
            "type": "histogram"
           }
          ],
          "histogram2d": [
           {
            "colorbar": {
             "outlinewidth": 0,
             "ticks": ""
            },
            "colorscale": [
             [
              0,
              "#0d0887"
             ],
             [
              0.1111111111111111,
              "#46039f"
             ],
             [
              0.2222222222222222,
              "#7201a8"
             ],
             [
              0.3333333333333333,
              "#9c179e"
             ],
             [
              0.4444444444444444,
              "#bd3786"
             ],
             [
              0.5555555555555556,
              "#d8576b"
             ],
             [
              0.6666666666666666,
              "#ed7953"
             ],
             [
              0.7777777777777778,
              "#fb9f3a"
             ],
             [
              0.8888888888888888,
              "#fdca26"
             ],
             [
              1,
              "#f0f921"
             ]
            ],
            "type": "histogram2d"
           }
          ],
          "histogram2dcontour": [
           {
            "colorbar": {
             "outlinewidth": 0,
             "ticks": ""
            },
            "colorscale": [
             [
              0,
              "#0d0887"
             ],
             [
              0.1111111111111111,
              "#46039f"
             ],
             [
              0.2222222222222222,
              "#7201a8"
             ],
             [
              0.3333333333333333,
              "#9c179e"
             ],
             [
              0.4444444444444444,
              "#bd3786"
             ],
             [
              0.5555555555555556,
              "#d8576b"
             ],
             [
              0.6666666666666666,
              "#ed7953"
             ],
             [
              0.7777777777777778,
              "#fb9f3a"
             ],
             [
              0.8888888888888888,
              "#fdca26"
             ],
             [
              1,
              "#f0f921"
             ]
            ],
            "type": "histogram2dcontour"
           }
          ],
          "mesh3d": [
           {
            "colorbar": {
             "outlinewidth": 0,
             "ticks": ""
            },
            "type": "mesh3d"
           }
          ],
          "parcoords": [
           {
            "line": {
             "colorbar": {
              "outlinewidth": 0,
              "ticks": ""
             }
            },
            "type": "parcoords"
           }
          ],
          "pie": [
           {
            "automargin": true,
            "type": "pie"
           }
          ],
          "scatter": [
           {
            "fillpattern": {
             "fillmode": "overlay",
             "size": 10,
             "solidity": 0.2
            },
            "type": "scatter"
           }
          ],
          "scatter3d": [
           {
            "line": {
             "colorbar": {
              "outlinewidth": 0,
              "ticks": ""
             }
            },
            "marker": {
             "colorbar": {
              "outlinewidth": 0,
              "ticks": ""
             }
            },
            "type": "scatter3d"
           }
          ],
          "scattercarpet": [
           {
            "marker": {
             "colorbar": {
              "outlinewidth": 0,
              "ticks": ""
             }
            },
            "type": "scattercarpet"
           }
          ],
          "scattergeo": [
           {
            "marker": {
             "colorbar": {
              "outlinewidth": 0,
              "ticks": ""
             }
            },
            "type": "scattergeo"
           }
          ],
          "scattergl": [
           {
            "marker": {
             "colorbar": {
              "outlinewidth": 0,
              "ticks": ""
             }
            },
            "type": "scattergl"
           }
          ],
          "scattermapbox": [
           {
            "marker": {
             "colorbar": {
              "outlinewidth": 0,
              "ticks": ""
             }
            },
            "type": "scattermapbox"
           }
          ],
          "scatterpolar": [
           {
            "marker": {
             "colorbar": {
              "outlinewidth": 0,
              "ticks": ""
             }
            },
            "type": "scatterpolar"
           }
          ],
          "scatterpolargl": [
           {
            "marker": {
             "colorbar": {
              "outlinewidth": 0,
              "ticks": ""
             }
            },
            "type": "scatterpolargl"
           }
          ],
          "scatterternary": [
           {
            "marker": {
             "colorbar": {
              "outlinewidth": 0,
              "ticks": ""
             }
            },
            "type": "scatterternary"
           }
          ],
          "surface": [
           {
            "colorbar": {
             "outlinewidth": 0,
             "ticks": ""
            },
            "colorscale": [
             [
              0,
              "#0d0887"
             ],
             [
              0.1111111111111111,
              "#46039f"
             ],
             [
              0.2222222222222222,
              "#7201a8"
             ],
             [
              0.3333333333333333,
              "#9c179e"
             ],
             [
              0.4444444444444444,
              "#bd3786"
             ],
             [
              0.5555555555555556,
              "#d8576b"
             ],
             [
              0.6666666666666666,
              "#ed7953"
             ],
             [
              0.7777777777777778,
              "#fb9f3a"
             ],
             [
              0.8888888888888888,
              "#fdca26"
             ],
             [
              1,
              "#f0f921"
             ]
            ],
            "type": "surface"
           }
          ],
          "table": [
           {
            "cells": {
             "fill": {
              "color": "#EBF0F8"
             },
             "line": {
              "color": "white"
             }
            },
            "header": {
             "fill": {
              "color": "#C8D4E3"
             },
             "line": {
              "color": "white"
             }
            },
            "type": "table"
           }
          ]
         },
         "layout": {
          "annotationdefaults": {
           "arrowcolor": "#2a3f5f",
           "arrowhead": 0,
           "arrowwidth": 1
          },
          "autotypenumbers": "strict",
          "coloraxis": {
           "colorbar": {
            "outlinewidth": 0,
            "ticks": ""
           }
          },
          "colorscale": {
           "diverging": [
            [
             0,
             "#8e0152"
            ],
            [
             0.1,
             "#c51b7d"
            ],
            [
             0.2,
             "#de77ae"
            ],
            [
             0.3,
             "#f1b6da"
            ],
            [
             0.4,
             "#fde0ef"
            ],
            [
             0.5,
             "#f7f7f7"
            ],
            [
             0.6,
             "#e6f5d0"
            ],
            [
             0.7,
             "#b8e186"
            ],
            [
             0.8,
             "#7fbc41"
            ],
            [
             0.9,
             "#4d9221"
            ],
            [
             1,
             "#276419"
            ]
           ],
           "sequential": [
            [
             0,
             "#0d0887"
            ],
            [
             0.1111111111111111,
             "#46039f"
            ],
            [
             0.2222222222222222,
             "#7201a8"
            ],
            [
             0.3333333333333333,
             "#9c179e"
            ],
            [
             0.4444444444444444,
             "#bd3786"
            ],
            [
             0.5555555555555556,
             "#d8576b"
            ],
            [
             0.6666666666666666,
             "#ed7953"
            ],
            [
             0.7777777777777778,
             "#fb9f3a"
            ],
            [
             0.8888888888888888,
             "#fdca26"
            ],
            [
             1,
             "#f0f921"
            ]
           ],
           "sequentialminus": [
            [
             0,
             "#0d0887"
            ],
            [
             0.1111111111111111,
             "#46039f"
            ],
            [
             0.2222222222222222,
             "#7201a8"
            ],
            [
             0.3333333333333333,
             "#9c179e"
            ],
            [
             0.4444444444444444,
             "#bd3786"
            ],
            [
             0.5555555555555556,
             "#d8576b"
            ],
            [
             0.6666666666666666,
             "#ed7953"
            ],
            [
             0.7777777777777778,
             "#fb9f3a"
            ],
            [
             0.8888888888888888,
             "#fdca26"
            ],
            [
             1,
             "#f0f921"
            ]
           ]
          },
          "colorway": [
           "#636efa",
           "#EF553B",
           "#00cc96",
           "#ab63fa",
           "#FFA15A",
           "#19d3f3",
           "#FF6692",
           "#B6E880",
           "#FF97FF",
           "#FECB52"
          ],
          "font": {
           "color": "#2a3f5f"
          },
          "geo": {
           "bgcolor": "white",
           "lakecolor": "white",
           "landcolor": "#E5ECF6",
           "showlakes": true,
           "showland": true,
           "subunitcolor": "white"
          },
          "hoverlabel": {
           "align": "left"
          },
          "hovermode": "closest",
          "mapbox": {
           "style": "light"
          },
          "paper_bgcolor": "white",
          "plot_bgcolor": "#E5ECF6",
          "polar": {
           "angularaxis": {
            "gridcolor": "white",
            "linecolor": "white",
            "ticks": ""
           },
           "bgcolor": "#E5ECF6",
           "radialaxis": {
            "gridcolor": "white",
            "linecolor": "white",
            "ticks": ""
           }
          },
          "scene": {
           "xaxis": {
            "backgroundcolor": "#E5ECF6",
            "gridcolor": "white",
            "gridwidth": 2,
            "linecolor": "white",
            "showbackground": true,
            "ticks": "",
            "zerolinecolor": "white"
           },
           "yaxis": {
            "backgroundcolor": "#E5ECF6",
            "gridcolor": "white",
            "gridwidth": 2,
            "linecolor": "white",
            "showbackground": true,
            "ticks": "",
            "zerolinecolor": "white"
           },
           "zaxis": {
            "backgroundcolor": "#E5ECF6",
            "gridcolor": "white",
            "gridwidth": 2,
            "linecolor": "white",
            "showbackground": true,
            "ticks": "",
            "zerolinecolor": "white"
           }
          },
          "shapedefaults": {
           "line": {
            "color": "#2a3f5f"
           }
          },
          "ternary": {
           "aaxis": {
            "gridcolor": "white",
            "linecolor": "white",
            "ticks": ""
           },
           "baxis": {
            "gridcolor": "white",
            "linecolor": "white",
            "ticks": ""
           },
           "bgcolor": "#E5ECF6",
           "caxis": {
            "gridcolor": "white",
            "linecolor": "white",
            "ticks": ""
           }
          },
          "title": {
           "x": 0.05
          },
          "xaxis": {
           "automargin": true,
           "gridcolor": "white",
           "linecolor": "white",
           "ticks": "",
           "title": {
            "standoff": 15
           },
           "zerolinecolor": "white",
           "zerolinewidth": 2
          },
          "yaxis": {
           "automargin": true,
           "gridcolor": "white",
           "linecolor": "white",
           "ticks": "",
           "title": {
            "standoff": 15
           },
           "zerolinecolor": "white",
           "zerolinewidth": 2
          }
         }
        },
        "title": {
         "text": "Modelo LSTM - RMSE: 143.80"
        },
        "xaxis": {
         "title": {
          "text": "Data"
         }
        },
        "yaxis": {
         "title": {
          "text": "Preço"
         }
        }
       }
      }
     },
     "metadata": {},
     "output_type": "display_data"
    }
   ],
   "source": [
    "# Plotar resultados com plotly\n",
    "fig = go.Figure()\n",
    "\n",
    "fig.add_trace(go.Scatter(x=data.index, y=prices.flatten(), mode='lines', name='Histórico'))\n",
    "\n",
    "fig.add_trace(go.Scatter(x=data.index[seq_length + train_index: seq_length + train_index + test_index],\n",
    "                         y=predictions_test.flatten(),\n",
    "                         mode='lines',\n",
    "                         name='Previsões Teste',\n",
    "                         line=dict(dash='dash', color='green')))\n",
    "\n",
    "# fig.add_trace(go.Scatter(x=data.index[seq_length + train_index + test_index:],\n",
    "#                          y=predictions_eval.flatten(),\n",
    "#                          mode='lines',\n",
    "#                          name='Previsões Avaliação',\n",
    "#                          line=dict(dash='dash', color='red')))\n",
    "\n",
    "# fig.update_layout(title=f'Modelo LSTM - RMSE: ', xaxis_title='Data', yaxis_title='Preço')\n",
    "fig.update_layout(title=f'Modelo LSTM - RMSE: {rmse:.2f}', xaxis_title='Data', yaxis_title='Preço')\n",
    "fig.show()\n"
   ]
  }
 ],
 "metadata": {
  "kernelspec": {
   "display_name": "Python 3",
   "language": "python",
   "name": "python3"
  },
  "language_info": {
   "codemirror_mode": {
    "name": "ipython",
    "version": 3
   },
   "file_extension": ".py",
   "mimetype": "text/x-python",
   "name": "python",
   "nbconvert_exporter": "python",
   "pygments_lexer": "ipython3",
   "version": "3.10.12"
  }
 },
 "nbformat": 4,
 "nbformat_minor": 2
}
